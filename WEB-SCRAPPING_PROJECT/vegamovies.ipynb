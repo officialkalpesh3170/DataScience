{
  "nbformat": 4,
  "nbformat_minor": 0,
  "metadata": {
    "colab": {
      "provenance": [],
      "authorship_tag": "ABX9TyO9Ra4c2c84SsWRTSNhbR31",
      "include_colab_link": true
    },
    "kernelspec": {
      "name": "python3",
      "display_name": "Python 3"
    },
    "language_info": {
      "name": "python"
    }
  },
  "cells": [
    {
      "cell_type": "markdown",
      "metadata": {
        "id": "view-in-github",
        "colab_type": "text"
      },
      "source": [
        "<a href=\"https://colab.research.google.com/github/officialkalpesh3170/DataScience/blob/main/WEB-SCRAPPING_PROJECT/vegamovies.ipynb\" target=\"_parent\"><img src=\"https://colab.research.google.com/assets/colab-badge.svg\" alt=\"Open In Colab\"/></a>"
      ]
    },
    {
      "cell_type": "code",
      "execution_count": 10,
      "metadata": {
        "id": "oKO_dThcTju2"
      },
      "outputs": [],
      "source": [
        "import requests\n",
        "from bs4 import BeautifulSoup\n",
        "import pandas as pd\n",
        "from tqdm import tqdm"
      ]
    },
    {
      "cell_type": "code",
      "source": [
        "link='https://vegamovies.tl/'"
      ],
      "metadata": {
        "id": "kclfT0IET1dg"
      },
      "execution_count": 2,
      "outputs": []
    },
    {
      "cell_type": "code",
      "source": [
        "res=requests.get(link)"
      ],
      "metadata": {
        "id": "BusyeYzbT1hJ"
      },
      "execution_count": 3,
      "outputs": []
    },
    {
      "cell_type": "code",
      "source": [
        "soup=BeautifulSoup(res.text,'html.parser')"
      ],
      "metadata": {
        "id": "rT_3HfTzT1k0"
      },
      "execution_count": 4,
      "outputs": []
    },
    {
      "cell_type": "code",
      "source": [
        "soup.find_all('a',class_=\"blog-img img-box\")"
      ],
      "metadata": {
        "colab": {
          "base_uri": "https://localhost:8080/"
        },
        "id": "vo_uK3kXT1tA",
        "outputId": "c2496e28-45d6-4e3a-d446-3307328e3aac"
      },
      "execution_count": 5,
      "outputs": [
        {
          "output_type": "execute_result",
          "data": {
            "text/plain": [
              "[<a class=\"blog-img img-box\" data-post-id=\"12829\" href=\"https://vegamovies.tl/38487-razakar-2024-hindi-dual-audio-web-dl-1080p-720p-480p.html\" title=\"Razakar 2024 Hindi Dual Audio WEB-DL 1080p - 720p - 480p\">\n",
              " <img alt=\"Razakar 2024 Hindi Dual Audio WEB-DL 1080p - 720p - 480p\" class=\"blog-picture ul-normal-classic\" height=\"444\" src=\"/uploads/posts/covers/Poster-Razakar-2024.webp\" width=\"300\"><span class=\"ul-placeholder-bg class-2x3\"></span>\n",
              " </img></a>,\n",
              " <a class=\"blog-img img-box\" data-post-id=\"12828\" href=\"https://vegamovies.tl/38484-night-of-7-years-2018-hindi-dual-audio-web-dl-1080p-720p-480p.html\" title=\"Night of 7 Years 2018 Hindi Dual Audio WEB-DL 1080p - 720p - 480p\">\n",
              " <img alt=\"Night of 7 Years 2018 Hindi Dual Audio WEB-DL 1080p - 720p - 480p\" class=\"blog-picture ul-normal-classic\" height=\"444\" src=\"/uploads/posts/covers/Poster-Night-of-7-Years-2018.webp\" width=\"300\"><span class=\"ul-placeholder-bg class-2x3\"></span>\n",
              " </img></a>,\n",
              " <a class=\"blog-img img-box\" data-post-id=\"12827\" href=\"https://vegamovies.tl/38481-panjab-files-2024-punjabi-dubbed-web-dl-1080p-720p-480p.html\" title=\"Panjab Files 2024 Punjabi WEB-DL 1080p - 720p - 480p\">\n",
              " <img alt=\"Panjab Files 2024 Punjabi WEB-DL 1080p - 720p - 480p\" class=\"blog-picture ul-normal-classic\" height=\"444\" src=\"/uploads/posts/covers/Poster-Panjab-Files-2024.webp\" width=\"300\"/><span class=\"ul-placeholder-bg class-2x3\"></span>\n",
              " </a>,\n",
              " <a class=\"blog-img img-box\" data-post-id=\"12826\" href=\"https://vegamovies.tl/38478-identity-2025-hindi-dual-audio-web-dl-1080p-720p-480p.html\" title=\"Identity 2025 Hindi Dual Audio WEB-DL 1080p - 720p - 480p\">\n",
              " <img alt=\"Identity 2025 Hindi Dual Audio WEB-DL 1080p - 720p - 480p\" class=\"blog-picture ul-normal-classic\" height=\"444\" src=\"/uploads/posts/covers/Poster-Identity-2025.webp\" width=\"300\"/><span class=\"ul-placeholder-bg class-2x3\"></span>\n",
              " </a>,\n",
              " <a class=\"blog-img img-box\" data-post-id=\"12825\" href=\"https://vegamovies.tl/38475-babu-2024-marathi-dubbed-web-dl-1080p-720p-480p.html\" title=\"Babu 2024 Marathi Dubbed WEB-DL 1080p - 720p - 480p\">\n",
              " <img alt=\"Babu 2024 Marathi Dubbed WEB-DL 1080p - 720p - 480p\" class=\"blog-picture ul-normal-classic\" height=\"444\" src=\"/uploads/posts/covers/Poster-Babu-2024.webp\" width=\"300\"/><span class=\"ul-placeholder-bg class-2x3\"></span>\n",
              " </a>,\n",
              " <a class=\"blog-img img-box\" data-post-id=\"12824\" href=\"https://vegamovies.tl/38472-vidaamuyarchi-2025-hindi-camrip-1080p-720p-480p.html\" title=\"VidaaMuyarchi (2025) Hindi CAMRip 1080p - 720p - 480p\">\n",
              " <img alt=\"VidaaMuyarchi (2025) Hindi CAMRip 1080p - 720p - 480p\" class=\"blog-picture ul-normal-classic\" height=\"444\" src=\"/uploads/posts/covers/vidaamuyarchi-2025-hindi-camrip-1080p--720p--480p.webp\" width=\"300\"/><span class=\"ul-placeholder-bg class-2x3\"></span>\n",
              " </a>,\n",
              " <a class=\"blog-img img-box\" data-post-id=\"12823\" href=\"https://vegamovies.tl/38469-loveyapa-2025-hindi-prehd-1080p-720p-480p.html\" title=\"Loveyapa (2025) Hindi PRE-HD 1080p - 720p - 480p\">\n",
              " <img alt=\"Loveyapa (2025) Hindi PRE-HD 1080p - 720p - 480p\" class=\"blog-picture ul-normal-classic\" height=\"444\" src=\"/uploads/posts/covers/loveyapa-2025-hindi-prehd-1080p--720p--480p.webp\" width=\"300\"/><span class=\"ul-placeholder-bg class-2x3\"></span>\n",
              " </a>,\n",
              " <a class=\"blog-img img-box\" data-post-id=\"12822\" href=\"https://vegamovies.tl/38466-thandel-2025-hindi-prehd-1080p-720p-480p.html\" title=\"Thandel (2025) Hindi PRE-HD 1080p - 720p - 480p\">\n",
              " <img alt=\"Thandel (2025) Hindi PRE-HD 1080p - 720p - 480p\" class=\"blog-picture ul-normal-classic\" height=\"444\" src=\"/uploads/posts/covers/thandel-2025-hindi-prehd-1080p--720p--480p.webp\" width=\"300\"/><span class=\"ul-placeholder-bg class-2x3\"></span>\n",
              " </a>,\n",
              " <a class=\"blog-img img-box\" data-post-id=\"12820\" href=\"https://vegamovies.tl/38460-anora-2024-hindi-dual-audio-web-dl-1080p-720p-480p.html\" title=\"Anora 2024 Hindi Dual Audio WEB-DL 1080p - 720p - 480p\">\n",
              " <img alt=\"Anora 2024 Hindi Dual Audio WEB-DL 1080p - 720p - 480p\" class=\"blog-picture ul-normal-classic\" height=\"444\" src=\"/uploads/posts/covers/Poster-Anora-2024.webp\" width=\"300\"/><span class=\"ul-placeholder-bg class-2x3\"></span>\n",
              " </a>,\n",
              " <a class=\"blog-img img-box\" data-post-id=\"12819\" href=\"https://vegamovies.tl/38457-kinda-pregnant-2025-hindi-dual-audio-web-dl-1080p-720p-480p.html\" title=\"Kinda Pregnant 2025 Hindi Dual Audio WEB-DL 1080p - 720p - 480p\">\n",
              " <img alt=\"Kinda Pregnant 2025 Hindi Dual Audio WEB-DL 1080p - 720p - 480p\" class=\"blog-picture ul-normal-classic\" height=\"444\" src=\"/uploads/posts/covers/Poster-Kinda-Pregnant-2025.webp\" width=\"300\"/><span class=\"ul-placeholder-bg class-2x3\"></span>\n",
              " </a>,\n",
              " <a class=\"blog-img img-box\" data-post-id=\"12818\" href=\"https://vegamovies.tl/38454-the-order-2024-hindi-dual-audio-web-dl-1080p-720p-480p.html\" title=\"The Order 2024 Hindi Dual Audio WEB-DL 1080p - 720p - 480p\">\n",
              " <img alt=\"The Order 2024 Hindi Dual Audio WEB-DL 1080p - 720p - 480p\" class=\"blog-picture ul-normal-classic\" height=\"444\" src=\"/uploads/posts/covers/Poster-The-Order-2024.webp\" width=\"300\"/><span class=\"ul-placeholder-bg class-2x3\"></span>\n",
              " </a>,\n",
              " <a class=\"blog-img img-box\" data-post-id=\"12817\" href=\"https://vegamovies.tl/38451-the-goldsmith-2022-hindi-dual-audio-web-dl-1080p-720p-480p.html\" title=\"The Goldsmith 2022 Hindi Dual Audio WEB-DL 1080p - 720p - 480p\">\n",
              " <img alt=\"The Goldsmith 2022 Hindi Dual Audio WEB-DL 1080p - 720p - 480p\" class=\"blog-picture ul-normal-classic\" height=\"444\" src=\"/uploads/posts/covers/Poster-The-Goldsmith-2022.webp\" width=\"300\"/><span class=\"ul-placeholder-bg class-2x3\"></span>\n",
              " </a>,\n",
              " <a class=\"blog-img img-box\" data-post-id=\"12816\" href=\"https://vegamovies.tl/38448-the-fortress-2018-hindi-dual-audio-web-dl-1080p-720p-480p.html\" title=\"The Fortress 2018 Hindi Dual Audio WEB-DL 1080p - 720p - 480p\">\n",
              " <img alt=\"The Fortress 2018 Hindi Dual Audio WEB-DL 1080p - 720p - 480p\" class=\"blog-picture ul-normal-classic\" height=\"444\" src=\"/uploads/posts/covers/Poster-The-Fortress-2017.webp\" width=\"300\"/><span class=\"ul-placeholder-bg class-2x3\"></span>\n",
              " </a>,\n",
              " <a class=\"blog-img img-box\" data-post-id=\"12815\" href=\"https://vegamovies.tl/38445-door-lock-2018-hindi-dual-audio-web-dl-1080p-720p-480p.html\" title=\"Door Lock 2018 Hindi Dual Audio WEB-DL 1080p - 720p - 480p\">\n",
              " <img alt=\"Door Lock 2018 Hindi Dual Audio WEB-DL 1080p - 720p - 480p\" class=\"blog-picture ul-normal-classic\" height=\"444\" src=\"/uploads/posts/covers/Poster-Door-Lock-2018.webp\" width=\"300\"/><span class=\"ul-placeholder-bg class-2x3\"></span>\n",
              " </a>,\n",
              " <a class=\"blog-img img-box\" data-post-id=\"12814\" href=\"https://vegamovies.tl/38442-deva-2025-hindi-line-hdtc-720p-480p-1080p.html\" title=\"Deva (2025) Hindi (LiNE) HDTC 720p – 480p – 1080p\">\n",
              " <img alt=\"Deva (2025) Hindi (LiNE) HDTC 720p – 480p – 1080p\" class=\"blog-picture ul-normal-classic\" height=\"444\" src=\"/uploads/posts/covers/deva-2025-hindi-line-hdtc.webp\" width=\"300\"/><span class=\"ul-placeholder-bg class-2x3\"></span>\n",
              " </a>,\n",
              " <a class=\"blog-img img-box\" data-post-id=\"12812\" href=\"https://vegamovies.tl/38436-a-love-inspired-bestseller-2016-hindi-dual-audio-web-dl-720p-480p.html\" title=\"A Love Inspired Bestseller 2016 Hindi Dual Audio WEB-DL 720p - 480p\">\n",
              " <img alt=\"A Love Inspired Bestseller 2016 Hindi Dual Audio WEB-DL 720p - 480p\" class=\"blog-picture ul-normal-classic\" height=\"444\" src=\"/uploads/posts/covers/A-Love-Inspired-Bestseller-2016.webp\" width=\"300\"/><span class=\"ul-placeholder-bg class-2x3\"></span>\n",
              " </a>,\n",
              " <a class=\"blog-img img-box\" data-post-id=\"12811\" href=\"https://vegamovies.tl/38433-the-legend-of-maula-jatt-2022-punjabi-audio-web-dl-1080p-720p-480p.html\" title=\"The Legend of Maula Jatt 2022 Punjabi WEB-DL 1080p - 720p - 480p\">\n",
              " <img alt=\"The Legend of Maula Jatt 2022 Punjabi WEB-DL 1080p - 720p - 480p\" class=\"blog-picture ul-normal-classic\" height=\"444\" src=\"/uploads/posts/covers/The-Legend-of-Maula-jatt-2022.webp\" width=\"300\"/><span class=\"ul-placeholder-bg class-2x3\"></span>\n",
              " </a>,\n",
              " <a class=\"blog-img img-box\" data-post-id=\"12810\" href=\"https://vegamovies.tl/38430-signs-2002-hindi-dual-audio-web-dl-1080p-720p-480p.html\" title=\"Signs 2002 Hindi Dual Audio WEB-DL 1080p - 720p - 480p\">\n",
              " <img alt=\"Signs 2002 Hindi Dual Audio WEB-DL 1080p - 720p - 480p\" class=\"blog-picture ul-normal-classic\" height=\"444\" src=\"/uploads/posts/covers/Signs-2002.webp\" width=\"300\"/><span class=\"ul-placeholder-bg class-2x3\"></span>\n",
              " </a>,\n",
              " <a class=\"blog-img img-box\" data-post-id=\"12809\" href=\"https://vegamovies.tl/38427-slaughterhouse-rulez-2018-hindi-dual-audio-web-dl-1080p-720p-480p.html\" title=\"Slaughterhouse Rulez 2018 Hindi Dual Audio WEB-DL 1080p - 720p - 480p\">\n",
              " <img alt=\"Slaughterhouse Rulez 2018 Hindi Dual Audio WEB-DL 1080p - 720p - 480p\" class=\"blog-picture ul-normal-classic\" height=\"444\" src=\"/uploads/posts/covers/Slaughterhouse-Rulez-2018.webp\" width=\"300\"/><span class=\"ul-placeholder-bg class-2x3\"></span>\n",
              " </a>,\n",
              " <a class=\"blog-img img-box\" data-post-id=\"12808\" href=\"https://vegamovies.tl/38424-bogota-city-of-the-lost-2025-hindi-dual-audio-web-dl-1080p-720p-480p.html\" title=\"Bogota: City of the Lost 2025 Hindi Dual Audio WEB-DL 1080p - 720p - 480p\">\n",
              " <img alt=\"Bogota: City of the Lost 2025 Hindi Dual Audio WEB-DL 1080p - 720p - 480p\" class=\"blog-picture ul-normal-classic\" height=\"444\" src=\"/uploads/posts/covers/Bogota-City-of-the-lost-2025.webp\" width=\"300\"/><span class=\"ul-placeholder-bg class-2x3\"></span>\n",
              " </a>,\n",
              " <a class=\"blog-img img-box\" data-post-id=\"12764\" href=\"https://vegamovies.tl/38292-azaad-2025-hindi-orgdd20-prehd-1080p-720p-480p.html\" title=\"Azaad (2025) Hindi (ORG-DD2.0) WEBRip 1080p - 720p - 480p\">\n",
              " <img alt=\"Azaad (2025) Hindi (ORG-DD2.0) WEBRip 1080p - 720p - 480p\" class=\"blog-picture ul-normal-classic\" height=\"444\" src=\"/uploads/posts/covers/azaad-2025-hindi.webp\" width=\"300\"/><span class=\"ul-placeholder-bg class-2x3\"></span>\n",
              " </a>,\n",
              " <a class=\"blog-img img-box\" data-post-id=\"12807\" href=\"https://vegamovies.tl/38421-ratnan-prapancha-2021-hindi-dual-audio-web-dl-1080p-720p-480p.html\" title=\"Ratnan Prapancha 2021 Hindi Dual Audio WEB-DL 1080p - 720p - 480p\">\n",
              " <img alt=\"Ratnan Prapancha 2021 Hindi Dual Audio WEB-DL 1080p - 720p - 480p\" class=\"blog-picture ul-normal-classic\" height=\"444\" src=\"/uploads/posts/covers/Poster-Rathnan-Prapancha-2021.webp\" width=\"300\"/><span class=\"ul-placeholder-bg class-2x3\"></span>\n",
              " </a>,\n",
              " <a class=\"blog-img img-box\" data-post-id=\"12806\" href=\"https://vegamovies.tl/38418-youre-cordially-invited-2025-hindi-dual-audio-web-dl-1080p-720p-480p.html\" title=\"You’re Cordially Invited 2025 Hindi Dual Audio WEB-DL 1080p - 720p - 480p\">\n",
              " <img alt=\"You’re Cordially Invited 2025 Hindi Dual Audio WEB-DL 1080p - 720p - 480p\" class=\"blog-picture ul-normal-classic\" height=\"444\" src=\"/uploads/posts/covers/Poster-Your-Cordially-Invites-2025.webp\" width=\"300\"/><span class=\"ul-placeholder-bg class-2x3\"></span>\n",
              " </a>,\n",
              " <a class=\"blog-img img-box\" data-post-id=\"12805\" href=\"https://vegamovies.tl/38415-bad-genius-2024-hindi-dual-audio-web-dl-1080p-720p-480p.html\" title=\"Bad Genius 2024 Hindi Dual Audio WEB-DL 1080p - 720p - 480p\">\n",
              " <img alt=\"Bad Genius 2024 Hindi Dual Audio WEB-DL 1080p - 720p - 480p\" class=\"blog-picture ul-normal-classic\" height=\"444\" src=\"/uploads/posts/covers/Poster-Bad-Genius-2024.webp\" width=\"300\"/><span class=\"ul-placeholder-bg class-2x3\"></span>\n",
              " </a>,\n",
              " <a class=\"blog-img img-box\" data-post-id=\"12804\" href=\"https://vegamovies.tl/38412-luccas-world-2025-hindi-dual-audio-web-dl-1080p-720p-480p.html\" title=\"Lucca’s World 2025 Hindi Dual Audio WEB-DL 1080p - 720p - 480p\">\n",
              " <img alt=\"Lucca’s World 2025 Hindi Dual Audio WEB-DL 1080p - 720p - 480p\" class=\"blog-picture ul-normal-classic\" height=\"444\" src=\"/uploads/posts/covers/Poster-Luccas-World-2025.webp\" width=\"300\"/><span class=\"ul-placeholder-bg class-2x3\"></span>\n",
              " </a>]"
            ]
          },
          "metadata": {},
          "execution_count": 5
        }
      ]
    },
    {
      "cell_type": "code",
      "source": [
        "data = []\n",
        "\n",
        "# Loop through pages 1 to 10\n",
        "for page in tqdm(range(1, 11)):\n",
        "    link = f'https://vegamovies.tl/page/{page}'\n",
        "    res = requests.get(link)\n",
        "    soup = BeautifulSoup(res.text, 'html.parser')\n",
        "\n",
        "    # Loop through each 'a' tag with class 'blog-img img-box'\n",
        "    for sp in soup.find_all('a', class_='blog-img img-box'):\n",
        "\n",
        "        # Extract the movie name from the 'title' attribute\n",
        "        Name = sp.get('title', 'No Title Available')  # Provide a default value if no title is found\n",
        "\n",
        "        # Extract the movie detail page link from the 'href' attribute\n",
        "        movie_detail_url = sp.get('href', 'No Link Available')  # Provide a default value if no link is found\n",
        "\n",
        "        # Now, visit the detail page to extract the download link\n",
        "        detail_res = requests.get(movie_detail_url)\n",
        "        detail_soup = BeautifulSoup(detail_res.text, 'html.parser')\n",
        "\n",
        "        # Find the download link on the detail page\n",
        "        download_link_tag = detail_soup.find('a', class_='btn', href=True)\n",
        "\n",
        "        if download_link_tag:\n",
        "            download_link = download_link_tag['href']  # Extract the actual download link\n",
        "        else:\n",
        "            download_link = 'No Download Link Available'  # Default if not found\n",
        "\n",
        "        # Append the extracted data to the list\n",
        "        data.append([Name, movie_detail_url, download_link])\n",
        "\n",
        "# Create a DataFrame to store the data\n",
        "df = pd.DataFrame(data, columns=['Name', 'Movie Detail URL', 'Download Link'])\n",
        "\n",
        "# Print the DataFrame or save it as a CSV file\n",
        "print(df)\n",
        "\n",
        "# Optionally, save the DataFrame to a CSV file\n",
        "# df.to_csv('movie_download_links.csv', index=False)"
      ],
      "metadata": {
        "colab": {
          "base_uri": "https://localhost:8080/"
        },
        "id": "8gLdRnM8T1zq",
        "outputId": "40c04151-453b-4fe0-a151-aec49cf1e51c"
      },
      "execution_count": 17,
      "outputs": [
        {
          "output_type": "stream",
          "name": "stderr",
          "text": [
            "100%|██████████| 10/10 [02:37<00:00, 15.73s/it]"
          ]
        },
        {
          "output_type": "stream",
          "name": "stdout",
          "text": [
            "                                                  Name  \\\n",
            "0    Razakar 2024 Hindi Dual Audio WEB-DL 1080p - 7...   \n",
            "1    Night of 7 Years 2018 Hindi Dual Audio WEB-DL ...   \n",
            "2    Panjab Files 2024 Punjabi WEB-DL 1080p - 720p ...   \n",
            "3    Identity 2025 Hindi Dual Audio WEB-DL 1080p - ...   \n",
            "4    Babu 2024 Marathi Dubbed WEB-DL 1080p - 720p -...   \n",
            "..                                                 ...   \n",
            "245  Love Fiction (2012) Hindi Dual Audio HDRip 108...   \n",
            "246  Gunner 2024 Hindi Dual Audio HDRip 1080p – 720...   \n",
            "247  Deadpool & Wolverine 2024 Hindi (Org) Dual Aud...   \n",
            "248  Look Back (2024) Hindi Dual Audio HDRip 1080p ...   \n",
            "249  Reset (2017) Hindi Dual Audio HDRip 1080p – 72...   \n",
            "\n",
            "                                      Movie Detail URL  \\\n",
            "0    https://vegamovies.tl/38487-razakar-2024-hindi...   \n",
            "1    https://vegamovies.tl/38484-night-of-7-years-2...   \n",
            "2    https://vegamovies.tl/38481-panjab-files-2024-...   \n",
            "3    https://vegamovies.tl/38478-identity-2025-hind...   \n",
            "4    https://vegamovies.tl/38475-babu-2024-marathi-...   \n",
            "..                                                 ...   \n",
            "245  https://vegamovies.tl/36789-love-fiction-2012-...   \n",
            "246  https://vegamovies.tl/36786-gunner-2024-hindi-...   \n",
            "247  https://vegamovies.tl/36762-deadpool-wolverine...   \n",
            "248  https://vegamovies.tl/36768-look-back-2024-hin...   \n",
            "249  https://vegamovies.tl/36765-reset-2017-hindi-d...   \n",
            "\n",
            "                          Download Link  \n",
            "0    https://vgmlinks.lol/67aa3f69d79f0  \n",
            "1    https://vgmlinks.lol/67aa3b66e88e2  \n",
            "2    https://vgmlinks.lol/67aa384a8d3cc  \n",
            "3    https://vgmlinks.lol/67aa2f8fb296b  \n",
            "4    https://vgmlinks.lol/67aa249e06dd8  \n",
            "..                                  ...  \n",
            "245         https://vgmlinks.lol/61935/  \n",
            "246         https://vgmlinks.lol/61932/  \n",
            "247         https://vgmlinks.lol/59370/  \n",
            "248         https://vgmlinks.lol/61874/  \n",
            "249         https://vgmlinks.lol/61871/  \n",
            "\n",
            "[250 rows x 3 columns]\n"
          ]
        },
        {
          "output_type": "stream",
          "name": "stderr",
          "text": [
            "\n"
          ]
        }
      ]
    },
    {
      "cell_type": "code",
      "source": [
        "df.to_csv('movie.csv',index=False)"
      ],
      "metadata": {
        "id": "L9RzXyhpT12P"
      },
      "execution_count": 18,
      "outputs": []
    },
    {
      "cell_type": "code",
      "source": [],
      "metadata": {
        "id": "N7GrGIMOT147"
      },
      "execution_count": null,
      "outputs": []
    },
    {
      "cell_type": "code",
      "source": [],
      "metadata": {
        "id": "fW6awIZMT17q"
      },
      "execution_count": null,
      "outputs": []
    }
  ]
}